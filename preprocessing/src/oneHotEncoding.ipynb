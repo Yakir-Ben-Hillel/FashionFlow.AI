{
 "cells": [
  {
   "cell_type": "code",
   "execution_count": 6,
   "metadata": {},
   "outputs": [],
   "source": [
    "import pandas as pd\n",
    "from sklearn.preprocessing import OneHotEncoder\n",
    "import os\n",
    "# Load CSV data into a DataFrame\n",
    "\n",
    "\n",
    "# Select categorical columns for one-hot encoding\n",
    "df=pd.read_csv(\"C:\\\\Dev\\\\AllTogether.csv\")"
   ]
  },
  {
   "cell_type": "code",
   "execution_count": 7,
   "metadata": {},
   "outputs": [],
   "source": [
    "categorical_columns = ['AudienceId', 'ProductTypeId', 'ProgrammaId', 'CategoryId','ColorId','TagTypeId','SiteRulerId','UnitsOfMeasurmentId','FitId','TagTypeId','CustomTagId']\n",
    "\n",
    "# Initialize OneHotEncoder\n",
    "encoder = OneHotEncoder(sparse_output=False)\n",
    "\n",
    "# Perform one-hot encoding for each categorical column\n",
    "encoded_dfs = []\n",
    "for col in categorical_columns:\n",
    "    # Extract the column values and reshape for encoding\n",
    "    col_values = df[col].values.reshape(-1, 1)\n",
    "    \n",
    "    # Perform one-hot encoding\n",
    "    encoded_values = encoder.fit_transform(col_values)\n",
    "    \n",
    "    # Create a DataFrame with one-hot encoded values and column names\n",
    "    encoded_df = pd.DataFrame(encoded_values, columns=encoder.get_feature_names_out([col]))\n",
    "    \n",
    "    # Append the encoded DataFrame to the list\n",
    "    encoded_dfs.append(encoded_df)\n",
    "\n",
    "# Concatenate all one-hot encoded DataFrames along axis=1 (columns)\n",
    "final_encoded_df = pd.concat([df] + encoded_dfs, axis=1)\n",
    "\n",
    "# Save the final encoded DataFrame to a new CSV file if needed\n",
    "final_encoded_df.to_csv('C:\\\\Dev\\\\OneHotEncoderDataframe.csv', index=False)\n"
   ]
  }
 ],
 "metadata": {
  "kernelspec": {
   "display_name": "preprocessing",
   "language": "python",
   "name": "python3"
  },
  "language_info": {
   "codemirror_mode": {
    "name": "ipython",
    "version": 3
   },
   "file_extension": ".py",
   "mimetype": "text/x-python",
   "name": "python",
   "nbconvert_exporter": "python",
   "pygments_lexer": "ipython3",
   "version": "3.12.3"
  }
 },
 "nbformat": 4,
 "nbformat_minor": 2
}
